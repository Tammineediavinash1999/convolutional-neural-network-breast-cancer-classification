{
 "cells": [
  {
   "cell_type": "code",
   "execution_count": 1,
   "metadata": {},
   "outputs": [
    {
     "name": "stderr",
     "output_type": "stream",
     "text": [
      "Using TensorFlow backend.\n"
     ]
    }
   ],
   "source": [
    "import os\n",
    "import pandas as pd\n",
    "from keras.models import Sequential, load_model\n",
    "from keras.layers import Dense,Dropout,Activation, Conv2D, MaxPool2D, Flatten\n",
    "import numpy as np\n",
    "import cv2\n",
    "from PIL import Image\n",
    "from sklearn.model_selection import train_test_split\n",
    "from keras.utils import to_categorical\n",
    "from sklearn.metrics import accuracy_score\n",
    "from sklearn.metrics import confusion_matrix\n",
    "from tensorflow.keras.layers import AveragePooling2D\n",
    "from tensorflow.keras.callbacks import EarlyStopping, ModelCheckpoint\n",
    "from keras import optimizers\n",
    "from keras import losses\n",
    "from sklearn import metrics\n",
    "import random\n",
    "import pickle"
   ]
  },
  {
   "cell_type": "code",
   "execution_count": 2,
   "metadata": {},
   "outputs": [],
   "source": [
    "from os import walk\n",
    "current_path = os.getcwd()\n",
    "mypath = os.path.join(current_path, 'all-mias_preprocessed_128')\n",
    "f = []\n",
    "for (dirpath, dirnames, filenames) in walk(mypath):\n",
    "    f.extend(filenames)\n",
    "    break"
   ]
  },
  {
   "cell_type": "code",
   "execution_count": 3,
   "metadata": {},
   "outputs": [
    {
     "name": "stdout",
     "output_type": "stream",
     "text": [
      "['mdb001.pgm', 'mdb002.pgm', 'mdb005.pgm', 'mdb010.pgm', 'mdb012.pgm', 'mdb013.pgm', 'mdb015.pgm', 'mdb017.pgm', 'mdb019.pgm', 'mdb021.pgm', 'mdb023.pgm', 'mdb025.pgm', 'mdb028.pgm', 'mdb030.pgm', 'mdb032.pgm', 'mdb058.pgm', 'mdb063.pgm', 'mdb069.pgm', 'mdb072.pgm', 'mdb075.pgm', 'mdb080.pgm', 'mdb081.pgm', 'mdb083.pgm', 'mdb090.pgm', 'mdb091.pgm', 'mdb092.pgm', 'mdb095.pgm', 'mdb097.pgm', 'mdb099.pgm', 'mdb102.pgm', 'mdb104.pgm', 'mdb105.pgm', 'mdb107.pgm', 'mdb110.pgm', 'mdb111.pgm', 'mdb115.pgm', 'mdb117.pgm', 'mdb120.pgm', 'mdb121.pgm', 'mdb124.pgm', 'mdb125.pgm', 'mdb126.pgm', 'mdb127.pgm', 'mdb130.pgm', 'mdb132.pgm', 'mdb134.pgm', 'mdb141.pgm', 'mdb142.pgm', 'mdb144.pgm', 'mdb145.pgm', 'mdb148.pgm', 'mdb150.pgm', 'mdb152.pgm', 'mdb155.pgm', 'mdb158.pgm', 'mdb160.pgm', 'mdb163.pgm', 'mdb165.pgm', 'mdb167.pgm', 'mdb170.pgm', 'mdb171.pgm', 'mdb175.pgm', 'mdb178.pgm', 'mdb179.pgm', 'mdb181.pgm', 'mdb184.pgm', 'mdb186.pgm', 'mdb188.pgm', 'mdb190.pgm', 'mdb191.pgm', 'mdb193.pgm', 'mdb195.pgm', 'mdb198.pgm', 'mdb199.pgm', 'mdb202.pgm', 'mdb204.pgm', 'mdb206.pgm', 'mdb207.pgm', 'mdb209.pgm', 'mdb211.pgm', 'mdb212.pgm', 'mdb213.pgm', 'mdb214.pgm', 'mdb218.pgm', 'mdb219.pgm', 'mdb222.pgm', 'mdb223.pgm', 'mdb226.pgm', 'mdb227.pgm', 'mdb231.pgm', 'mdb236.pgm', 'mdb238.pgm', 'mdb239.pgm', 'mdb240.pgm', 'mdb241.pgm', 'mdb244.pgm', 'mdb248.pgm', 'mdb249.pgm', 'mdb252.pgm', 'mdb253.pgm', 'mdb256.pgm', 'mdb264.pgm', 'mdb265.pgm', 'mdb267.pgm', 'mdb270.pgm', 'mdb271.pgm', 'mdb274.pgm', 'mdb290.pgm', 'mdb312.pgm', 'mdb314.pgm', 'mdb315.pgm']\n"
     ]
    }
   ],
   "source": [
    "print(f)"
   ]
  },
  {
   "cell_type": "code",
   "execution_count": 4,
   "metadata": {},
   "outputs": [],
   "source": [
    "info=pd.read_csv(\"all-mias_preprocessed_128_info.txt\",sep=\" \")\n",
    "info=info.drop('Unnamed: 7',axis=1)"
   ]
  },
  {
   "cell_type": "code",
   "execution_count": 5,
   "metadata": {},
   "outputs": [
    {
     "data": {
      "text/html": [
       "<div>\n",
       "<style scoped>\n",
       "    .dataframe tbody tr th:only-of-type {\n",
       "        vertical-align: middle;\n",
       "    }\n",
       "\n",
       "    .dataframe tbody tr th {\n",
       "        vertical-align: top;\n",
       "    }\n",
       "\n",
       "    .dataframe thead th {\n",
       "        text-align: right;\n",
       "    }\n",
       "</style>\n",
       "<table border=\"1\" class=\"dataframe\">\n",
       "  <thead>\n",
       "    <tr style=\"text-align: right;\">\n",
       "      <th></th>\n",
       "      <th>REFNUM</th>\n",
       "      <th>BG</th>\n",
       "      <th>CLASS</th>\n",
       "      <th>SEVERITY</th>\n",
       "      <th>X</th>\n",
       "      <th>Y</th>\n",
       "      <th>RADIUS</th>\n",
       "    </tr>\n",
       "  </thead>\n",
       "  <tbody>\n",
       "    <tr>\n",
       "      <th>0</th>\n",
       "      <td>mdb001</td>\n",
       "      <td>G</td>\n",
       "      <td>CIRC</td>\n",
       "      <td>B</td>\n",
       "      <td>535.0</td>\n",
       "      <td>425.0</td>\n",
       "      <td>197.0</td>\n",
       "    </tr>\n",
       "    <tr>\n",
       "      <th>1</th>\n",
       "      <td>mdb002</td>\n",
       "      <td>G</td>\n",
       "      <td>CIRC</td>\n",
       "      <td>B</td>\n",
       "      <td>522.0</td>\n",
       "      <td>280.0</td>\n",
       "      <td>69.0</td>\n",
       "    </tr>\n",
       "    <tr>\n",
       "      <th>2</th>\n",
       "      <td>mdb003</td>\n",
       "      <td>D</td>\n",
       "      <td>NORM</td>\n",
       "      <td>NaN</td>\n",
       "      <td>NaN</td>\n",
       "      <td>NaN</td>\n",
       "      <td>NaN</td>\n",
       "    </tr>\n",
       "    <tr>\n",
       "      <th>3</th>\n",
       "      <td>mdb004</td>\n",
       "      <td>D</td>\n",
       "      <td>NORM</td>\n",
       "      <td>NaN</td>\n",
       "      <td>NaN</td>\n",
       "      <td>NaN</td>\n",
       "      <td>NaN</td>\n",
       "    </tr>\n",
       "    <tr>\n",
       "      <th>4</th>\n",
       "      <td>mdb005</td>\n",
       "      <td>F</td>\n",
       "      <td>CIRC</td>\n",
       "      <td>B</td>\n",
       "      <td>500.0</td>\n",
       "      <td>168.0</td>\n",
       "      <td>26.0</td>\n",
       "    </tr>\n",
       "    <tr>\n",
       "      <th>...</th>\n",
       "      <td>...</td>\n",
       "      <td>...</td>\n",
       "      <td>...</td>\n",
       "      <td>...</td>\n",
       "      <td>...</td>\n",
       "      <td>...</td>\n",
       "      <td>...</td>\n",
       "    </tr>\n",
       "    <tr>\n",
       "      <th>313</th>\n",
       "      <td>mdb318</td>\n",
       "      <td>D</td>\n",
       "      <td>NORM</td>\n",
       "      <td>NaN</td>\n",
       "      <td>NaN</td>\n",
       "      <td>NaN</td>\n",
       "      <td>NaN</td>\n",
       "    </tr>\n",
       "    <tr>\n",
       "      <th>314</th>\n",
       "      <td>mdb319</td>\n",
       "      <td>D</td>\n",
       "      <td>NORM</td>\n",
       "      <td>NaN</td>\n",
       "      <td>NaN</td>\n",
       "      <td>NaN</td>\n",
       "      <td>NaN</td>\n",
       "    </tr>\n",
       "    <tr>\n",
       "      <th>315</th>\n",
       "      <td>mdb320</td>\n",
       "      <td>D</td>\n",
       "      <td>NORM</td>\n",
       "      <td>NaN</td>\n",
       "      <td>NaN</td>\n",
       "      <td>NaN</td>\n",
       "      <td>NaN</td>\n",
       "    </tr>\n",
       "    <tr>\n",
       "      <th>316</th>\n",
       "      <td>mdb321</td>\n",
       "      <td>D</td>\n",
       "      <td>NORM</td>\n",
       "      <td>NaN</td>\n",
       "      <td>NaN</td>\n",
       "      <td>NaN</td>\n",
       "      <td>NaN</td>\n",
       "    </tr>\n",
       "    <tr>\n",
       "      <th>317</th>\n",
       "      <td>mdb322</td>\n",
       "      <td>D</td>\n",
       "      <td>NORM</td>\n",
       "      <td>NaN</td>\n",
       "      <td>NaN</td>\n",
       "      <td>NaN</td>\n",
       "      <td>NaN</td>\n",
       "    </tr>\n",
       "  </tbody>\n",
       "</table>\n",
       "<p>318 rows × 7 columns</p>\n",
       "</div>"
      ],
      "text/plain": [
       "     REFNUM BG CLASS SEVERITY      X      Y  RADIUS\n",
       "0    mdb001  G  CIRC        B  535.0  425.0   197.0\n",
       "1    mdb002  G  CIRC        B  522.0  280.0    69.0\n",
       "2    mdb003  D  NORM      NaN    NaN    NaN     NaN\n",
       "3    mdb004  D  NORM      NaN    NaN    NaN     NaN\n",
       "4    mdb005  F  CIRC        B  500.0  168.0    26.0\n",
       "..      ... ..   ...      ...    ...    ...     ...\n",
       "313  mdb318  D  NORM      NaN    NaN    NaN     NaN\n",
       "314  mdb319  D  NORM      NaN    NaN    NaN     NaN\n",
       "315  mdb320  D  NORM      NaN    NaN    NaN     NaN\n",
       "316  mdb321  D  NORM      NaN    NaN    NaN     NaN\n",
       "317  mdb322  D  NORM      NaN    NaN    NaN     NaN\n",
       "\n",
       "[318 rows x 7 columns]"
      ]
     },
     "execution_count": 5,
     "metadata": {},
     "output_type": "execute_result"
    }
   ],
   "source": [
    "info"
   ]
  },
  {
   "cell_type": "code",
   "execution_count": 6,
   "metadata": {},
   "outputs": [
    {
     "data": {
      "text/html": [
       "<div>\n",
       "<style scoped>\n",
       "    .dataframe tbody tr th:only-of-type {\n",
       "        vertical-align: middle;\n",
       "    }\n",
       "\n",
       "    .dataframe tbody tr th {\n",
       "        vertical-align: top;\n",
       "    }\n",
       "\n",
       "    .dataframe thead th {\n",
       "        text-align: right;\n",
       "    }\n",
       "</style>\n",
       "<table border=\"1\" class=\"dataframe\">\n",
       "  <thead>\n",
       "    <tr style=\"text-align: right;\">\n",
       "      <th></th>\n",
       "      <th>index</th>\n",
       "      <th>REFNUM</th>\n",
       "      <th>BG</th>\n",
       "      <th>CLASS</th>\n",
       "      <th>SEVERITY</th>\n",
       "      <th>X</th>\n",
       "      <th>Y</th>\n",
       "      <th>RADIUS</th>\n",
       "    </tr>\n",
       "  </thead>\n",
       "  <tbody>\n",
       "    <tr>\n",
       "      <th>0</th>\n",
       "      <td>0</td>\n",
       "      <td>mdb001</td>\n",
       "      <td>G</td>\n",
       "      <td>CIRC</td>\n",
       "      <td>B</td>\n",
       "      <td>535.0</td>\n",
       "      <td>425.0</td>\n",
       "      <td>197.0</td>\n",
       "    </tr>\n",
       "    <tr>\n",
       "      <th>1</th>\n",
       "      <td>1</td>\n",
       "      <td>mdb002</td>\n",
       "      <td>G</td>\n",
       "      <td>CIRC</td>\n",
       "      <td>B</td>\n",
       "      <td>522.0</td>\n",
       "      <td>280.0</td>\n",
       "      <td>69.0</td>\n",
       "    </tr>\n",
       "    <tr>\n",
       "      <th>2</th>\n",
       "      <td>4</td>\n",
       "      <td>mdb005</td>\n",
       "      <td>F</td>\n",
       "      <td>CIRC</td>\n",
       "      <td>B</td>\n",
       "      <td>500.0</td>\n",
       "      <td>168.0</td>\n",
       "      <td>26.0</td>\n",
       "    </tr>\n",
       "    <tr>\n",
       "      <th>3</th>\n",
       "      <td>9</td>\n",
       "      <td>mdb010</td>\n",
       "      <td>F</td>\n",
       "      <td>CIRC</td>\n",
       "      <td>B</td>\n",
       "      <td>525.0</td>\n",
       "      <td>425.0</td>\n",
       "      <td>33.0</td>\n",
       "    </tr>\n",
       "    <tr>\n",
       "      <th>4</th>\n",
       "      <td>11</td>\n",
       "      <td>mdb012</td>\n",
       "      <td>F</td>\n",
       "      <td>CIRC</td>\n",
       "      <td>B</td>\n",
       "      <td>471.0</td>\n",
       "      <td>458.0</td>\n",
       "      <td>40.0</td>\n",
       "    </tr>\n",
       "    <tr>\n",
       "      <th>...</th>\n",
       "      <td>...</td>\n",
       "      <td>...</td>\n",
       "      <td>...</td>\n",
       "      <td>...</td>\n",
       "      <td>...</td>\n",
       "      <td>...</td>\n",
       "      <td>...</td>\n",
       "      <td>...</td>\n",
       "    </tr>\n",
       "    <tr>\n",
       "      <th>106</th>\n",
       "      <td>269</td>\n",
       "      <td>mdb274</td>\n",
       "      <td>F</td>\n",
       "      <td>MISC</td>\n",
       "      <td>M</td>\n",
       "      <td>127.0</td>\n",
       "      <td>505.0</td>\n",
       "      <td>123.0</td>\n",
       "    </tr>\n",
       "    <tr>\n",
       "      <th>107</th>\n",
       "      <td>285</td>\n",
       "      <td>mdb290</td>\n",
       "      <td>D</td>\n",
       "      <td>CIRC</td>\n",
       "      <td>B</td>\n",
       "      <td>337.0</td>\n",
       "      <td>353.0</td>\n",
       "      <td>45.0</td>\n",
       "    </tr>\n",
       "    <tr>\n",
       "      <th>108</th>\n",
       "      <td>307</td>\n",
       "      <td>mdb312</td>\n",
       "      <td>F</td>\n",
       "      <td>MISC</td>\n",
       "      <td>B</td>\n",
       "      <td>240.0</td>\n",
       "      <td>263.0</td>\n",
       "      <td>20.0</td>\n",
       "    </tr>\n",
       "    <tr>\n",
       "      <th>109</th>\n",
       "      <td>309</td>\n",
       "      <td>mdb314</td>\n",
       "      <td>F</td>\n",
       "      <td>MISC</td>\n",
       "      <td>B</td>\n",
       "      <td>518.0</td>\n",
       "      <td>191.0</td>\n",
       "      <td>39.0</td>\n",
       "    </tr>\n",
       "    <tr>\n",
       "      <th>110</th>\n",
       "      <td>310</td>\n",
       "      <td>mdb315</td>\n",
       "      <td>D</td>\n",
       "      <td>CIRC</td>\n",
       "      <td>B</td>\n",
       "      <td>516.0</td>\n",
       "      <td>447.0</td>\n",
       "      <td>93.0</td>\n",
       "    </tr>\n",
       "  </tbody>\n",
       "</table>\n",
       "<p>111 rows × 8 columns</p>\n",
       "</div>"
      ],
      "text/plain": [
       "     index  REFNUM BG CLASS SEVERITY      X      Y  RADIUS\n",
       "0        0  mdb001  G  CIRC        B  535.0  425.0   197.0\n",
       "1        1  mdb002  G  CIRC        B  522.0  280.0    69.0\n",
       "2        4  mdb005  F  CIRC        B  500.0  168.0    26.0\n",
       "3        9  mdb010  F  CIRC        B  525.0  425.0    33.0\n",
       "4       11  mdb012  F  CIRC        B  471.0  458.0    40.0\n",
       "..     ...     ... ..   ...      ...    ...    ...     ...\n",
       "106    269  mdb274  F  MISC        M  127.0  505.0   123.0\n",
       "107    285  mdb290  D  CIRC        B  337.0  353.0    45.0\n",
       "108    307  mdb312  F  MISC        B  240.0  263.0    20.0\n",
       "109    309  mdb314  F  MISC        B  518.0  191.0    39.0\n",
       "110    310  mdb315  D  CIRC        B  516.0  447.0    93.0\n",
       "\n",
       "[111 rows x 8 columns]"
      ]
     },
     "execution_count": 6,
     "metadata": {},
     "output_type": "execute_result"
    }
   ],
   "source": [
    "info.dropna(subset = [\"SEVERITY\"], inplace=True)\n",
    "\n",
    "info.reset_index(inplace = True)\n",
    "info"
   ]
  },
  {
   "cell_type": "code",
   "execution_count": 7,
   "metadata": {},
   "outputs": [],
   "source": [
    "ids = {}\n",
    "for i in range(len(info)):\n",
    "    ids[i] = info.REFNUM[i]"
   ]
  },
  {
   "cell_type": "code",
   "execution_count": 8,
   "metadata": {},
   "outputs": [],
   "source": [
    "label = []\n",
    "for i in range(len(info)):\n",
    "    if info.SEVERITY[i] == 'B':\n",
    "        label.append(1)\n",
    "    else:\n",
    "        label.append(0)"
   ]
  },
  {
   "cell_type": "code",
   "execution_count": 9,
   "metadata": {},
   "outputs": [],
   "source": [
    "label = np.array(label)"
   ]
  },
  {
   "cell_type": "code",
   "execution_count": 10,
   "metadata": {},
   "outputs": [
    {
     "data": {
      "text/plain": [
       "(111,)"
      ]
     },
     "execution_count": 10,
     "metadata": {},
     "output_type": "execute_result"
    }
   ],
   "source": [
    "label.shape"
   ]
  },
  {
   "cell_type": "code",
   "execution_count": 11,
   "metadata": {},
   "outputs": [],
   "source": [
    "img_name = []\n",
    "\n",
    "for i in range(len(label)):\n",
    "        img_name.append(mypath +\"\\\\\" +info.REFNUM[i]+ '.pgm')"
   ]
  },
  {
   "cell_type": "code",
   "execution_count": 12,
   "metadata": {},
   "outputs": [],
   "source": [
    "img_name = np.array(img_name)"
   ]
  },
  {
   "cell_type": "code",
   "execution_count": 13,
   "metadata": {},
   "outputs": [
    {
     "name": "stdout",
     "output_type": "stream",
     "text": [
      "<class 'numpy.str_'>\n"
     ]
    }
   ],
   "source": [
    "print(type(img_name[1]))"
   ]
  },
  {
   "cell_type": "code",
   "execution_count": 14,
   "metadata": {},
   "outputs": [
    {
     "name": "stdout",
     "output_type": "stream",
     "text": [
      "image addres amount (111,)\n"
     ]
    }
   ],
   "source": [
    "print(f'image addres amount {img_name.shape}')"
   ]
  },
  {
   "cell_type": "code",
   "execution_count": 15,
   "metadata": {},
   "outputs": [],
   "source": [
    "img_path = []\n",
    "last_label = []\n",
    "for i in range(len(img_name)):\n",
    "    \n",
    "    img = cv2.imread(img_name[i], 0)\n",
    "    img = cv2.resize(img, (128,128))\n",
    "    rows, cols= img.shape\n",
    "    for angle in range(360):\n",
    "            M = cv2.getRotationMatrix2D((cols / 2, rows / 2), angle, 1)    #Rotate 0 degree\n",
    "            img_rotated = cv2.warpAffine(img, M, (128, 128))\n",
    "            img_path.append(img_rotated)\n",
    "            if label[i] == 1:\n",
    "                last_label.append(1)\n",
    "            else:\n",
    "                last_label.append(0)"
   ]
  },
  {
   "cell_type": "code",
   "execution_count": 16,
   "metadata": {},
   "outputs": [],
   "source": [
    "last_label = np.array(last_label)\n",
    "img_path = np.array(img_path)"
   ]
  },
  {
   "cell_type": "code",
   "execution_count": 17,
   "metadata": {},
   "outputs": [],
   "source": [
    "x_train, x_test, y_train, y_test = train_test_split(img_path, last_label, test_size = 0.2, random_state = 42)"
   ]
  },
  {
   "cell_type": "code",
   "execution_count": 18,
   "metadata": {},
   "outputs": [
    {
     "data": {
      "text/plain": [
       "(31968, 7992, 31968, 7992)"
      ]
     },
     "execution_count": 18,
     "metadata": {},
     "output_type": "execute_result"
    }
   ],
   "source": [
    "len(x_train),len(x_test),len(y_train),len(y_test)"
   ]
  },
  {
   "cell_type": "code",
   "execution_count": 19,
   "metadata": {},
   "outputs": [],
   "source": [
    "x_train = np.array(x_train)\n",
    "x_test = np.array(x_test)"
   ]
  },
  {
   "cell_type": "code",
   "execution_count": 20,
   "metadata": {},
   "outputs": [
    {
     "data": {
      "text/plain": [
       "((31968, 128, 128), (7992, 128, 128))"
      ]
     },
     "execution_count": 20,
     "metadata": {},
     "output_type": "execute_result"
    }
   ],
   "source": [
    "x_train.shape, x_test.shape"
   ]
  },
  {
   "cell_type": "code",
   "execution_count": 21,
   "metadata": {},
   "outputs": [],
   "source": [
    "(a,b,c)=x_train.shape # (35136, 224, 224)\n",
    "x_train = np.reshape(x_train, (a, b, c, 1)) # 1 for gray scale\n",
    "(a, b, c)=x_test.shape\n",
    "x_test = np.reshape(x_test, (a, b, c, 1))"
   ]
  },
  {
   "cell_type": "code",
   "execution_count": 25,
   "metadata": {},
   "outputs": [],
   "source": [
    "def create_model():\n",
    "    model = Sequential()\n",
    "    model.add(Conv2D(32, kernel_size=(3, 3),activation='relu',input_shape=(128, 128, 1)))\n",
    "    model.add(Conv2D(64, kernel_size=(3,3),activation='relu'))\n",
    "    model.add(MaxPool2D(pool_size=(2, 2)))\n",
    "\n",
    "    model.add(Conv2D(64, kernel_size=(3,3),activation='relu'))\n",
    "    model.add(MaxPool2D(pool_size=(2, 2)))\n",
    "    model.add(Dropout(0.25))\n",
    "  \n",
    "    model.add(Dense(64, activation='relu'))\n",
    "    model.add(Dropout(0.25))\n",
    "    model.add(Flatten())\n",
    "    model.add(Dense(1, activation='sigmoid'))\n",
    "    return model"
   ]
  },
  {
   "cell_type": "code",
   "execution_count": 26,
   "metadata": {},
   "outputs": [
    {
     "name": "stdout",
     "output_type": "stream",
     "text": [
      "Model: \"sequential_2\"\n",
      "_________________________________________________________________\n",
      "Layer (type)                 Output Shape              Param #   \n",
      "=================================================================\n",
      "conv2d_4 (Conv2D)            (None, 126, 126, 32)      320       \n",
      "_________________________________________________________________\n",
      "conv2d_5 (Conv2D)            (None, 124, 124, 64)      18496     \n",
      "_________________________________________________________________\n",
      "max_pooling2d_3 (MaxPooling2 (None, 62, 62, 64)        0         \n",
      "_________________________________________________________________\n",
      "conv2d_6 (Conv2D)            (None, 60, 60, 64)        36928     \n",
      "_________________________________________________________________\n",
      "max_pooling2d_4 (MaxPooling2 (None, 30, 30, 64)        0         \n",
      "_________________________________________________________________\n",
      "dropout_3 (Dropout)          (None, 30, 30, 64)        0         \n",
      "_________________________________________________________________\n",
      "dense_3 (Dense)              (None, 30, 30, 64)        4160      \n",
      "_________________________________________________________________\n",
      "dropout_4 (Dropout)          (None, 30, 30, 64)        0         \n",
      "_________________________________________________________________\n",
      "flatten_2 (Flatten)          (None, 57600)             0         \n",
      "_________________________________________________________________\n",
      "dense_4 (Dense)              (None, 1)                 57601     \n",
      "=================================================================\n",
      "Total params: 117,505\n",
      "Trainable params: 117,505\n",
      "Non-trainable params: 0\n",
      "_________________________________________________________________\n"
     ]
    }
   ],
   "source": [
    "model = create_model()\n",
    "model.summary()"
   ]
  },
  {
   "cell_type": "code",
   "execution_count": null,
   "metadata": {},
   "outputs": [
    {
     "name": "stdout",
     "output_type": "stream",
     "text": [
      "Train on 25574 samples, validate on 6394 samples\n",
      "Epoch 1/10\n",
      "25574/25574 [==============================] - 1017s 40ms/step - loss: 1.3357 - accuracy: 0.5396 - val_loss: 0.6781 - val_accuracy: 0.5357\n",
      "Epoch 2/10\n",
      "25574/25574 [==============================] - 909s 36ms/step - loss: 0.6776 - accuracy: 0.5559 - val_loss: 0.6724 - val_accuracy: 0.5405\n",
      "Epoch 3/10\n",
      "25574/25574 [==============================] - 892s 35ms/step - loss: 0.6686 - accuracy: 0.5626 - val_loss: 0.6682 - val_accuracy: 0.5536\n",
      "Epoch 4/10\n",
      "25574/25574 [==============================] - 828s 32ms/step - loss: 0.6609 - accuracy: 0.5703 - val_loss: 0.6587 - val_accuracy: 0.5613\n",
      "Epoch 5/10\n",
      "25574/25574 [==============================] - 804s 31ms/step - loss: 0.6513 - accuracy: 0.5711 - val_loss: 0.6552 - val_accuracy: 0.5261\n",
      "Epoch 6/10\n",
      "25574/25574 [==============================] - 6170s 241ms/step - loss: 0.6404 - accuracy: 0.5787 - val_loss: 0.6389 - val_accuracy: 0.5621\n",
      "Epoch 7/10\n",
      "25574/25574 [==============================] - 1080s 42ms/step - loss: 0.6287 - accuracy: 0.5883 - val_loss: 0.6280 - val_accuracy: 0.5901\n",
      "Epoch 8/10\n",
      "21888/25574 [========================>.....] - ETA: 46:21 - loss: 0.6185 - accuracy: 0.5948"
     ]
    }
   ],
   "source": [
    "model.compile(optimizer='adam',loss='binary_crossentropy',metrics=['accuracy'])\n",
    "\n",
    "hist = model.fit(x_train,y_train,validation_split=0.2,epochs=10,batch_size=64)"
   ]
  },
  {
   "cell_type": "code",
   "execution_count": null,
   "metadata": {},
   "outputs": [],
   "source": [
    "loss_value , accuracy = model.evaluate(x_test, y_test)\n",
    "\n",
    "print('Test_loss_value = ' +str(loss_value))\n",
    "print('test_accuracy = ' + str(accuracy))\n",
    "\n",
    "print(model.predict(x_test))"
   ]
  },
  {
   "cell_type": "code",
   "execution_count": null,
   "metadata": {},
   "outputs": [],
   "source": [
    "with open('bcc_cnn_128_360.pkl', 'wb') as file:\n",
    "    pickle.dump(model, file)"
   ]
  },
  {
   "cell_type": "code",
   "execution_count": null,
   "metadata": {},
   "outputs": [],
   "source": [
    "y_pred=model.predict(x_test)"
   ]
  },
  {
   "cell_type": "code",
   "execution_count": null,
   "metadata": {},
   "outputs": [],
   "source": [
    "y_pred"
   ]
  },
  {
   "cell_type": "code",
   "execution_count": null,
   "metadata": {},
   "outputs": [],
   "source": []
  }
 ],
 "metadata": {
  "kernelspec": {
   "display_name": "Tensorflowenv",
   "language": "python",
   "name": "tensorflowenv"
  },
  "language_info": {
   "codemirror_mode": {
    "name": "ipython",
    "version": 3
   },
   "file_extension": ".py",
   "mimetype": "text/x-python",
   "name": "python",
   "nbconvert_exporter": "python",
   "pygments_lexer": "ipython3",
   "version": "3.7.7"
  }
 },
 "nbformat": 4,
 "nbformat_minor": 4
}
