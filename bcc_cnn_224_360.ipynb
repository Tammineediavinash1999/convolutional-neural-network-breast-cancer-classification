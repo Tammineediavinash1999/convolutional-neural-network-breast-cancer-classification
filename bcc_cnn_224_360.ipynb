{
 "cells": [
  {
   "cell_type": "code",
   "execution_count": 1,
   "metadata": {},
   "outputs": [
    {
     "name": "stderr",
     "output_type": "stream",
     "text": [
      "Using TensorFlow backend.\n"
     ]
    }
   ],
   "source": [
    "import os\n",
    "import pandas as pd\n",
    "from keras.models import Sequential, load_model\n",
    "from keras.layers import Dense,Dropout,Activation, Conv2D, MaxPool2D, Flatten\n",
    "import numpy as np\n",
    "import cv2\n",
    "from PIL import Image\n",
    "from sklearn.model_selection import train_test_split\n",
    "from keras.utils import to_categorical\n",
    "from sklearn.metrics import accuracy_score\n",
    "from sklearn.metrics import confusion_matrix\n",
    "from tensorflow.keras.layers import AveragePooling2D\n",
    "from tensorflow.keras.callbacks import EarlyStopping, ModelCheckpoint\n",
    "from keras import optimizers\n",
    "from keras import losses\n",
    "from sklearn import metrics\n",
    "import random\n",
    "import pickle"
   ]
  },
  {
   "cell_type": "code",
   "execution_count": 2,
   "metadata": {},
   "outputs": [],
   "source": [
    "from os import walk\n",
    "current_path = os.getcwd()\n",
    "mypath = os.path.join(current_path, 'all-mias')\n",
    "f = []\n",
    "for (dirpath, dirnames, filenames) in walk(mypath):\n",
    "    f.extend(filenames)\n",
    "    break"
   ]
  },
  {
   "cell_type": "code",
   "execution_count": 3,
   "metadata": {},
   "outputs": [
    {
     "name": "stdout",
     "output_type": "stream",
     "text": [
      "['mdb001.pgm', 'mdb002.pgm', 'mdb003.pgm', 'mdb004.pgm', 'mdb005.pgm', 'mdb006.pgm', 'mdb007.pgm', 'mdb008.pgm', 'mdb009.pgm', 'mdb010.pgm', 'mdb011.pgm', 'mdb012.pgm', 'mdb013.pgm', 'mdb014.pgm', 'mdb015.pgm', 'mdb016.pgm', 'mdb017.pgm', 'mdb018.pgm', 'mdb019.pgm', 'mdb020.pgm', 'mdb021.pgm', 'mdb022.pgm', 'mdb023.pgm', 'mdb024.pgm', 'mdb025.pgm', 'mdb026.pgm', 'mdb027.pgm', 'mdb028.pgm', 'mdb029.pgm', 'mdb030.pgm', 'mdb031.pgm', 'mdb032.pgm', 'mdb033.pgm', 'mdb034.pgm', 'mdb035.pgm', 'mdb036.pgm', 'mdb037.pgm', 'mdb038.pgm', 'mdb039.pgm', 'mdb040.pgm', 'mdb041.pgm', 'mdb042.pgm', 'mdb043.pgm', 'mdb044.pgm', 'mdb045.pgm', 'mdb046.pgm', 'mdb047.pgm', 'mdb048.pgm', 'mdb049.pgm', 'mdb050.pgm', 'mdb051.pgm', 'mdb052.pgm', 'mdb053.pgm', 'mdb054.pgm', 'mdb055.pgm', 'mdb056.pgm', 'mdb057.pgm', 'mdb058.pgm', 'mdb059.pgm', 'mdb060.pgm', 'mdb061.pgm', 'mdb062.pgm', 'mdb063.pgm', 'mdb064.pgm', 'mdb065.pgm', 'mdb066.pgm', 'mdb067.pgm', 'mdb068.pgm', 'mdb069.pgm', 'mdb070.pgm', 'mdb071.pgm', 'mdb072.pgm', 'mdb073.pgm', 'mdb074.pgm', 'mdb075.pgm', 'mdb076.pgm', 'mdb077.pgm', 'mdb078.pgm', 'mdb079.pgm', 'mdb080.pgm', 'mdb081.pgm', 'mdb082.pgm', 'mdb083.pgm', 'mdb084.pgm', 'mdb085.pgm', 'mdb086.pgm', 'mdb087.pgm', 'mdb088.pgm', 'mdb089.pgm', 'mdb090.pgm', 'mdb091.pgm', 'mdb092.pgm', 'mdb093.pgm', 'mdb094.pgm', 'mdb095.pgm', 'mdb096.pgm', 'mdb097.pgm', 'mdb098.pgm', 'mdb099.pgm', 'mdb100.pgm', 'mdb101.pgm', 'mdb102.pgm', 'mdb103.pgm', 'mdb104.pgm', 'mdb105.pgm', 'mdb106.pgm', 'mdb107.pgm', 'mdb108.pgm', 'mdb109.pgm', 'mdb110.pgm', 'mdb111.pgm', 'mdb112.pgm', 'mdb113.pgm', 'mdb114.pgm', 'mdb115.pgm', 'mdb116.pgm', 'mdb117.pgm', 'mdb118.pgm', 'mdb119.pgm', 'mdb120.pgm', 'mdb121.pgm', 'mdb122.pgm', 'mdb123.pgm', 'mdb124.pgm', 'mdb125.pgm', 'mdb126.pgm', 'mdb127.pgm', 'mdb128.pgm', 'mdb129.pgm', 'mdb130.pgm', 'mdb131.pgm', 'mdb132.pgm', 'mdb133.pgm', 'mdb134.pgm', 'mdb135.pgm', 'mdb136.pgm', 'mdb137.pgm', 'mdb138.pgm', 'mdb139.pgm', 'mdb140.pgm', 'mdb141.pgm', 'mdb142.pgm', 'mdb143.pgm', 'mdb144.pgm', 'mdb145.pgm', 'mdb146.pgm', 'mdb147.pgm', 'mdb148.pgm', 'mdb149.pgm', 'mdb150.pgm', 'mdb151.pgm', 'mdb152.pgm', 'mdb153.pgm', 'mdb154.pgm', 'mdb155.pgm', 'mdb156.pgm', 'mdb157.pgm', 'mdb158.pgm', 'mdb159.pgm', 'mdb160.pgm', 'mdb161.pgm', 'mdb162.pgm', 'mdb163.pgm', 'mdb164.pgm', 'mdb165.pgm', 'mdb166.pgm', 'mdb167.pgm', 'mdb168.pgm', 'mdb169.pgm', 'mdb170.pgm', 'mdb171.pgm', 'mdb172.pgm', 'mdb173.pgm', 'mdb174.pgm', 'mdb175.pgm', 'mdb176.pgm', 'mdb177.pgm', 'mdb178.pgm', 'mdb179.pgm', 'mdb180.pgm', 'mdb181.pgm', 'mdb182.pgm', 'mdb183.pgm', 'mdb184.pgm', 'mdb185.pgm', 'mdb186.pgm', 'mdb187.pgm', 'mdb188.pgm', 'mdb189.pgm', 'mdb190.pgm', 'mdb191.pgm', 'mdb192.pgm', 'mdb193.pgm', 'mdb194.pgm', 'mdb195.pgm', 'mdb196.pgm', 'mdb197.pgm', 'mdb198.pgm', 'mdb199.pgm', 'mdb200.pgm', 'mdb201.pgm', 'mdb202.pgm', 'mdb203.pgm', 'mdb204.pgm', 'mdb205.pgm', 'mdb206.pgm', 'mdb207.pgm', 'mdb208.pgm', 'mdb209.pgm', 'mdb210.pgm', 'mdb211.pgm', 'mdb212.pgm', 'mdb213.pgm', 'mdb214.pgm', 'mdb215.pgm', 'mdb216.pgm', 'mdb217.pgm', 'mdb218.pgm', 'mdb219.pgm', 'mdb220.pgm', 'mdb221.pgm', 'mdb222.pgm', 'mdb223.pgm', 'mdb224.pgm', 'mdb225.pgm', 'mdb226.pgm', 'mdb227.pgm', 'mdb228.pgm', 'mdb229.pgm', 'mdb230.pgm', 'mdb231.pgm', 'mdb232.pgm', 'mdb233.pgm', 'mdb234.pgm', 'mdb235.pgm', 'mdb236.pgm', 'mdb237.pgm', 'mdb238.pgm', 'mdb239.pgm', 'mdb240.pgm', 'mdb241.pgm', 'mdb242.pgm', 'mdb243.pgm', 'mdb244.pgm', 'mdb245.pgm', 'mdb246.pgm', 'mdb247.pgm', 'mdb248.pgm', 'mdb249.pgm', 'mdb250.pgm', 'mdb251.pgm', 'mdb252.pgm', 'mdb253.pgm', 'mdb254.pgm', 'mdb255.pgm', 'mdb256.pgm', 'mdb257.pgm', 'mdb258.pgm', 'mdb259.pgm', 'mdb260.pgm', 'mdb261.pgm', 'mdb262.pgm', 'mdb263.pgm', 'mdb264.pgm', 'mdb265.pgm', 'mdb266.pgm', 'mdb267.pgm', 'mdb268.pgm', 'mdb269.pgm', 'mdb270.pgm', 'mdb271.pgm', 'mdb272.pgm', 'mdb273.pgm', 'mdb274.pgm', 'mdb275.pgm', 'mdb276.pgm', 'mdb277.pgm', 'mdb278.pgm', 'mdb279.pgm', 'mdb280.pgm', 'mdb281.pgm', 'mdb282.pgm', 'mdb283.pgm', 'mdb284.pgm', 'mdb285.pgm', 'mdb286.pgm', 'mdb287.pgm', 'mdb288.pgm', 'mdb289.pgm', 'mdb290.pgm', 'mdb291.pgm', 'mdb292.pgm', 'mdb293.pgm', 'mdb294.pgm', 'mdb295.pgm', 'mdb296.pgm', 'mdb297.pgm', 'mdb298.pgm', 'mdb299.pgm', 'mdb300.pgm', 'mdb301.pgm', 'mdb302.pgm', 'mdb303.pgm', 'mdb304.pgm', 'mdb305.pgm', 'mdb306.pgm', 'mdb307.pgm', 'mdb308.pgm', 'mdb309.pgm', 'mdb310.pgm', 'mdb311.pgm', 'mdb312.pgm', 'mdb313.pgm', 'mdb314.pgm', 'mdb315.pgm', 'mdb316.pgm', 'mdb317.pgm', 'mdb318.pgm', 'mdb319.pgm', 'mdb320.pgm', 'mdb321.pgm', 'mdb322.pgm']\n"
     ]
    }
   ],
   "source": [
    "print(f)"
   ]
  },
  {
   "cell_type": "code",
   "execution_count": 4,
   "metadata": {},
   "outputs": [],
   "source": [
    "info=pd.read_csv(\"all-mias_info.txt\",sep=\" \")\n",
    "info=info.drop('Unnamed: 7',axis=1)"
   ]
  },
  {
   "cell_type": "code",
   "execution_count": 5,
   "metadata": {},
   "outputs": [
    {
     "data": {
      "text/html": [
       "<div>\n",
       "<style scoped>\n",
       "    .dataframe tbody tr th:only-of-type {\n",
       "        vertical-align: middle;\n",
       "    }\n",
       "\n",
       "    .dataframe tbody tr th {\n",
       "        vertical-align: top;\n",
       "    }\n",
       "\n",
       "    .dataframe thead th {\n",
       "        text-align: right;\n",
       "    }\n",
       "</style>\n",
       "<table border=\"1\" class=\"dataframe\">\n",
       "  <thead>\n",
       "    <tr style=\"text-align: right;\">\n",
       "      <th></th>\n",
       "      <th>REFNUM</th>\n",
       "      <th>BG</th>\n",
       "      <th>CLASS</th>\n",
       "      <th>SEVERITY</th>\n",
       "      <th>X</th>\n",
       "      <th>Y</th>\n",
       "      <th>RADIUS</th>\n",
       "    </tr>\n",
       "  </thead>\n",
       "  <tbody>\n",
       "    <tr>\n",
       "      <th>0</th>\n",
       "      <td>mdb001</td>\n",
       "      <td>G</td>\n",
       "      <td>CIRC</td>\n",
       "      <td>B</td>\n",
       "      <td>535.0</td>\n",
       "      <td>425.0</td>\n",
       "      <td>197.0</td>\n",
       "    </tr>\n",
       "    <tr>\n",
       "      <th>1</th>\n",
       "      <td>mdb002</td>\n",
       "      <td>G</td>\n",
       "      <td>CIRC</td>\n",
       "      <td>B</td>\n",
       "      <td>522.0</td>\n",
       "      <td>280.0</td>\n",
       "      <td>69.0</td>\n",
       "    </tr>\n",
       "    <tr>\n",
       "      <th>2</th>\n",
       "      <td>mdb003</td>\n",
       "      <td>D</td>\n",
       "      <td>NORM</td>\n",
       "      <td>NaN</td>\n",
       "      <td>NaN</td>\n",
       "      <td>NaN</td>\n",
       "      <td>NaN</td>\n",
       "    </tr>\n",
       "    <tr>\n",
       "      <th>3</th>\n",
       "      <td>mdb004</td>\n",
       "      <td>D</td>\n",
       "      <td>NORM</td>\n",
       "      <td>NaN</td>\n",
       "      <td>NaN</td>\n",
       "      <td>NaN</td>\n",
       "      <td>NaN</td>\n",
       "    </tr>\n",
       "    <tr>\n",
       "      <th>4</th>\n",
       "      <td>mdb005</td>\n",
       "      <td>F</td>\n",
       "      <td>CIRC</td>\n",
       "      <td>B</td>\n",
       "      <td>477.0</td>\n",
       "      <td>133.0</td>\n",
       "      <td>30.0</td>\n",
       "    </tr>\n",
       "    <tr>\n",
       "      <th>...</th>\n",
       "      <td>...</td>\n",
       "      <td>...</td>\n",
       "      <td>...</td>\n",
       "      <td>...</td>\n",
       "      <td>...</td>\n",
       "      <td>...</td>\n",
       "      <td>...</td>\n",
       "    </tr>\n",
       "    <tr>\n",
       "      <th>325</th>\n",
       "      <td>mdb318</td>\n",
       "      <td>D</td>\n",
       "      <td>NORM</td>\n",
       "      <td>NaN</td>\n",
       "      <td>NaN</td>\n",
       "      <td>NaN</td>\n",
       "      <td>NaN</td>\n",
       "    </tr>\n",
       "    <tr>\n",
       "      <th>326</th>\n",
       "      <td>mdb319</td>\n",
       "      <td>D</td>\n",
       "      <td>NORM</td>\n",
       "      <td>NaN</td>\n",
       "      <td>NaN</td>\n",
       "      <td>NaN</td>\n",
       "      <td>NaN</td>\n",
       "    </tr>\n",
       "    <tr>\n",
       "      <th>327</th>\n",
       "      <td>mdb320</td>\n",
       "      <td>D</td>\n",
       "      <td>NORM</td>\n",
       "      <td>NaN</td>\n",
       "      <td>NaN</td>\n",
       "      <td>NaN</td>\n",
       "      <td>NaN</td>\n",
       "    </tr>\n",
       "    <tr>\n",
       "      <th>328</th>\n",
       "      <td>mdb321</td>\n",
       "      <td>D</td>\n",
       "      <td>NORM</td>\n",
       "      <td>NaN</td>\n",
       "      <td>NaN</td>\n",
       "      <td>NaN</td>\n",
       "      <td>NaN</td>\n",
       "    </tr>\n",
       "    <tr>\n",
       "      <th>329</th>\n",
       "      <td>mdb322</td>\n",
       "      <td>D</td>\n",
       "      <td>NORM</td>\n",
       "      <td>NaN</td>\n",
       "      <td>NaN</td>\n",
       "      <td>NaN</td>\n",
       "      <td>NaN</td>\n",
       "    </tr>\n",
       "  </tbody>\n",
       "</table>\n",
       "<p>330 rows × 7 columns</p>\n",
       "</div>"
      ],
      "text/plain": [
       "     REFNUM BG CLASS SEVERITY      X      Y  RADIUS\n",
       "0    mdb001  G  CIRC        B  535.0  425.0   197.0\n",
       "1    mdb002  G  CIRC        B  522.0  280.0    69.0\n",
       "2    mdb003  D  NORM      NaN    NaN    NaN     NaN\n",
       "3    mdb004  D  NORM      NaN    NaN    NaN     NaN\n",
       "4    mdb005  F  CIRC        B  477.0  133.0    30.0\n",
       "..      ... ..   ...      ...    ...    ...     ...\n",
       "325  mdb318  D  NORM      NaN    NaN    NaN     NaN\n",
       "326  mdb319  D  NORM      NaN    NaN    NaN     NaN\n",
       "327  mdb320  D  NORM      NaN    NaN    NaN     NaN\n",
       "328  mdb321  D  NORM      NaN    NaN    NaN     NaN\n",
       "329  mdb322  D  NORM      NaN    NaN    NaN     NaN\n",
       "\n",
       "[330 rows x 7 columns]"
      ]
     },
     "execution_count": 5,
     "metadata": {},
     "output_type": "execute_result"
    }
   ],
   "source": [
    "info"
   ]
  },
  {
   "cell_type": "code",
   "execution_count": 6,
   "metadata": {},
   "outputs": [
    {
     "data": {
      "text/html": [
       "<div>\n",
       "<style scoped>\n",
       "    .dataframe tbody tr th:only-of-type {\n",
       "        vertical-align: middle;\n",
       "    }\n",
       "\n",
       "    .dataframe tbody tr th {\n",
       "        vertical-align: top;\n",
       "    }\n",
       "\n",
       "    .dataframe thead th {\n",
       "        text-align: right;\n",
       "    }\n",
       "</style>\n",
       "<table border=\"1\" class=\"dataframe\">\n",
       "  <thead>\n",
       "    <tr style=\"text-align: right;\">\n",
       "      <th></th>\n",
       "      <th>index</th>\n",
       "      <th>REFNUM</th>\n",
       "      <th>BG</th>\n",
       "      <th>CLASS</th>\n",
       "      <th>SEVERITY</th>\n",
       "      <th>X</th>\n",
       "      <th>Y</th>\n",
       "      <th>RADIUS</th>\n",
       "    </tr>\n",
       "  </thead>\n",
       "  <tbody>\n",
       "    <tr>\n",
       "      <th>0</th>\n",
       "      <td>0</td>\n",
       "      <td>mdb001</td>\n",
       "      <td>G</td>\n",
       "      <td>CIRC</td>\n",
       "      <td>B</td>\n",
       "      <td>535.0</td>\n",
       "      <td>425.0</td>\n",
       "      <td>197.0</td>\n",
       "    </tr>\n",
       "    <tr>\n",
       "      <th>1</th>\n",
       "      <td>1</td>\n",
       "      <td>mdb002</td>\n",
       "      <td>G</td>\n",
       "      <td>CIRC</td>\n",
       "      <td>B</td>\n",
       "      <td>522.0</td>\n",
       "      <td>280.0</td>\n",
       "      <td>69.0</td>\n",
       "    </tr>\n",
       "    <tr>\n",
       "      <th>2</th>\n",
       "      <td>4</td>\n",
       "      <td>mdb005</td>\n",
       "      <td>F</td>\n",
       "      <td>CIRC</td>\n",
       "      <td>B</td>\n",
       "      <td>477.0</td>\n",
       "      <td>133.0</td>\n",
       "      <td>30.0</td>\n",
       "    </tr>\n",
       "    <tr>\n",
       "      <th>3</th>\n",
       "      <td>5</td>\n",
       "      <td>mdb005</td>\n",
       "      <td>F</td>\n",
       "      <td>CIRC</td>\n",
       "      <td>B</td>\n",
       "      <td>500.0</td>\n",
       "      <td>168.0</td>\n",
       "      <td>26.0</td>\n",
       "    </tr>\n",
       "    <tr>\n",
       "      <th>4</th>\n",
       "      <td>10</td>\n",
       "      <td>mdb010</td>\n",
       "      <td>F</td>\n",
       "      <td>CIRC</td>\n",
       "      <td>B</td>\n",
       "      <td>525.0</td>\n",
       "      <td>425.0</td>\n",
       "      <td>33.0</td>\n",
       "    </tr>\n",
       "    <tr>\n",
       "      <th>...</th>\n",
       "      <td>...</td>\n",
       "      <td>...</td>\n",
       "      <td>...</td>\n",
       "      <td>...</td>\n",
       "      <td>...</td>\n",
       "      <td>...</td>\n",
       "      <td>...</td>\n",
       "      <td>...</td>\n",
       "    </tr>\n",
       "    <tr>\n",
       "      <th>118</th>\n",
       "      <td>281</td>\n",
       "      <td>mdb274</td>\n",
       "      <td>F</td>\n",
       "      <td>MISC</td>\n",
       "      <td>M</td>\n",
       "      <td>127.0</td>\n",
       "      <td>505.0</td>\n",
       "      <td>123.0</td>\n",
       "    </tr>\n",
       "    <tr>\n",
       "      <th>119</th>\n",
       "      <td>297</td>\n",
       "      <td>mdb290</td>\n",
       "      <td>D</td>\n",
       "      <td>CIRC</td>\n",
       "      <td>B</td>\n",
       "      <td>337.0</td>\n",
       "      <td>353.0</td>\n",
       "      <td>45.0</td>\n",
       "    </tr>\n",
       "    <tr>\n",
       "      <th>120</th>\n",
       "      <td>319</td>\n",
       "      <td>mdb312</td>\n",
       "      <td>F</td>\n",
       "      <td>MISC</td>\n",
       "      <td>B</td>\n",
       "      <td>240.0</td>\n",
       "      <td>263.0</td>\n",
       "      <td>20.0</td>\n",
       "    </tr>\n",
       "    <tr>\n",
       "      <th>121</th>\n",
       "      <td>321</td>\n",
       "      <td>mdb314</td>\n",
       "      <td>F</td>\n",
       "      <td>MISC</td>\n",
       "      <td>B</td>\n",
       "      <td>518.0</td>\n",
       "      <td>191.0</td>\n",
       "      <td>39.0</td>\n",
       "    </tr>\n",
       "    <tr>\n",
       "      <th>122</th>\n",
       "      <td>322</td>\n",
       "      <td>mdb315</td>\n",
       "      <td>D</td>\n",
       "      <td>CIRC</td>\n",
       "      <td>B</td>\n",
       "      <td>516.0</td>\n",
       "      <td>447.0</td>\n",
       "      <td>93.0</td>\n",
       "    </tr>\n",
       "  </tbody>\n",
       "</table>\n",
       "<p>123 rows × 8 columns</p>\n",
       "</div>"
      ],
      "text/plain": [
       "     index  REFNUM BG CLASS SEVERITY      X      Y  RADIUS\n",
       "0        0  mdb001  G  CIRC        B  535.0  425.0   197.0\n",
       "1        1  mdb002  G  CIRC        B  522.0  280.0    69.0\n",
       "2        4  mdb005  F  CIRC        B  477.0  133.0    30.0\n",
       "3        5  mdb005  F  CIRC        B  500.0  168.0    26.0\n",
       "4       10  mdb010  F  CIRC        B  525.0  425.0    33.0\n",
       "..     ...     ... ..   ...      ...    ...    ...     ...\n",
       "118    281  mdb274  F  MISC        M  127.0  505.0   123.0\n",
       "119    297  mdb290  D  CIRC        B  337.0  353.0    45.0\n",
       "120    319  mdb312  F  MISC        B  240.0  263.0    20.0\n",
       "121    321  mdb314  F  MISC        B  518.0  191.0    39.0\n",
       "122    322  mdb315  D  CIRC        B  516.0  447.0    93.0\n",
       "\n",
       "[123 rows x 8 columns]"
      ]
     },
     "execution_count": 6,
     "metadata": {},
     "output_type": "execute_result"
    }
   ],
   "source": [
    "info.dropna(subset = [\"SEVERITY\"], inplace=True)\n",
    "\n",
    "info.reset_index(inplace = True)\n",
    "info\n"
   ]
  },
  {
   "cell_type": "code",
   "execution_count": 7,
   "metadata": {},
   "outputs": [
    {
     "data": {
      "text/html": [
       "<div>\n",
       "<style scoped>\n",
       "    .dataframe tbody tr th:only-of-type {\n",
       "        vertical-align: middle;\n",
       "    }\n",
       "\n",
       "    .dataframe tbody tr th {\n",
       "        vertical-align: top;\n",
       "    }\n",
       "\n",
       "    .dataframe thead th {\n",
       "        text-align: right;\n",
       "    }\n",
       "</style>\n",
       "<table border=\"1\" class=\"dataframe\">\n",
       "  <thead>\n",
       "    <tr style=\"text-align: right;\">\n",
       "      <th></th>\n",
       "      <th>level_0</th>\n",
       "      <th>index</th>\n",
       "      <th>REFNUM</th>\n",
       "      <th>BG</th>\n",
       "      <th>CLASS</th>\n",
       "      <th>SEVERITY</th>\n",
       "      <th>X</th>\n",
       "      <th>Y</th>\n",
       "      <th>RADIUS</th>\n",
       "    </tr>\n",
       "  </thead>\n",
       "  <tbody>\n",
       "    <tr>\n",
       "      <th>0</th>\n",
       "      <td>0</td>\n",
       "      <td>0</td>\n",
       "      <td>mdb001</td>\n",
       "      <td>G</td>\n",
       "      <td>CIRC</td>\n",
       "      <td>B</td>\n",
       "      <td>535.0</td>\n",
       "      <td>425.0</td>\n",
       "      <td>197.0</td>\n",
       "    </tr>\n",
       "    <tr>\n",
       "      <th>1</th>\n",
       "      <td>1</td>\n",
       "      <td>1</td>\n",
       "      <td>mdb002</td>\n",
       "      <td>G</td>\n",
       "      <td>CIRC</td>\n",
       "      <td>B</td>\n",
       "      <td>522.0</td>\n",
       "      <td>280.0</td>\n",
       "      <td>69.0</td>\n",
       "    </tr>\n",
       "    <tr>\n",
       "      <th>2</th>\n",
       "      <td>2</td>\n",
       "      <td>4</td>\n",
       "      <td>mdb005</td>\n",
       "      <td>F</td>\n",
       "      <td>CIRC</td>\n",
       "      <td>B</td>\n",
       "      <td>477.0</td>\n",
       "      <td>133.0</td>\n",
       "      <td>30.0</td>\n",
       "    </tr>\n",
       "    <tr>\n",
       "      <th>3</th>\n",
       "      <td>4</td>\n",
       "      <td>10</td>\n",
       "      <td>mdb010</td>\n",
       "      <td>F</td>\n",
       "      <td>CIRC</td>\n",
       "      <td>B</td>\n",
       "      <td>525.0</td>\n",
       "      <td>425.0</td>\n",
       "      <td>33.0</td>\n",
       "    </tr>\n",
       "    <tr>\n",
       "      <th>4</th>\n",
       "      <td>5</td>\n",
       "      <td>12</td>\n",
       "      <td>mdb012</td>\n",
       "      <td>F</td>\n",
       "      <td>CIRC</td>\n",
       "      <td>B</td>\n",
       "      <td>471.0</td>\n",
       "      <td>458.0</td>\n",
       "      <td>40.0</td>\n",
       "    </tr>\n",
       "    <tr>\n",
       "      <th>...</th>\n",
       "      <td>...</td>\n",
       "      <td>...</td>\n",
       "      <td>...</td>\n",
       "      <td>...</td>\n",
       "      <td>...</td>\n",
       "      <td>...</td>\n",
       "      <td>...</td>\n",
       "      <td>...</td>\n",
       "      <td>...</td>\n",
       "    </tr>\n",
       "    <tr>\n",
       "      <th>117</th>\n",
       "      <td>118</td>\n",
       "      <td>281</td>\n",
       "      <td>mdb274</td>\n",
       "      <td>F</td>\n",
       "      <td>MISC</td>\n",
       "      <td>M</td>\n",
       "      <td>127.0</td>\n",
       "      <td>505.0</td>\n",
       "      <td>123.0</td>\n",
       "    </tr>\n",
       "    <tr>\n",
       "      <th>118</th>\n",
       "      <td>119</td>\n",
       "      <td>297</td>\n",
       "      <td>mdb290</td>\n",
       "      <td>D</td>\n",
       "      <td>CIRC</td>\n",
       "      <td>B</td>\n",
       "      <td>337.0</td>\n",
       "      <td>353.0</td>\n",
       "      <td>45.0</td>\n",
       "    </tr>\n",
       "    <tr>\n",
       "      <th>119</th>\n",
       "      <td>120</td>\n",
       "      <td>319</td>\n",
       "      <td>mdb312</td>\n",
       "      <td>F</td>\n",
       "      <td>MISC</td>\n",
       "      <td>B</td>\n",
       "      <td>240.0</td>\n",
       "      <td>263.0</td>\n",
       "      <td>20.0</td>\n",
       "    </tr>\n",
       "    <tr>\n",
       "      <th>120</th>\n",
       "      <td>121</td>\n",
       "      <td>321</td>\n",
       "      <td>mdb314</td>\n",
       "      <td>F</td>\n",
       "      <td>MISC</td>\n",
       "      <td>B</td>\n",
       "      <td>518.0</td>\n",
       "      <td>191.0</td>\n",
       "      <td>39.0</td>\n",
       "    </tr>\n",
       "    <tr>\n",
       "      <th>121</th>\n",
       "      <td>122</td>\n",
       "      <td>322</td>\n",
       "      <td>mdb315</td>\n",
       "      <td>D</td>\n",
       "      <td>CIRC</td>\n",
       "      <td>B</td>\n",
       "      <td>516.0</td>\n",
       "      <td>447.0</td>\n",
       "      <td>93.0</td>\n",
       "    </tr>\n",
       "  </tbody>\n",
       "</table>\n",
       "<p>122 rows × 9 columns</p>\n",
       "</div>"
      ],
      "text/plain": [
       "     level_0  index  REFNUM BG CLASS SEVERITY      X      Y  RADIUS\n",
       "0          0      0  mdb001  G  CIRC        B  535.0  425.0   197.0\n",
       "1          1      1  mdb002  G  CIRC        B  522.0  280.0    69.0\n",
       "2          2      4  mdb005  F  CIRC        B  477.0  133.0    30.0\n",
       "3          4     10  mdb010  F  CIRC        B  525.0  425.0    33.0\n",
       "4          5     12  mdb012  F  CIRC        B  471.0  458.0    40.0\n",
       "..       ...    ...     ... ..   ...      ...    ...    ...     ...\n",
       "117      118    281  mdb274  F  MISC        M  127.0  505.0   123.0\n",
       "118      119    297  mdb290  D  CIRC        B  337.0  353.0    45.0\n",
       "119      120    319  mdb312  F  MISC        B  240.0  263.0    20.0\n",
       "120      121    321  mdb314  F  MISC        B  518.0  191.0    39.0\n",
       "121      122    322  mdb315  D  CIRC        B  516.0  447.0    93.0\n",
       "\n",
       "[122 rows x 9 columns]"
      ]
     },
     "execution_count": 7,
     "metadata": {},
     "output_type": "execute_result"
    }
   ],
   "source": [
    "info = info.drop([3], axis=0)\n",
    "info.reset_index(inplace = True)\n",
    "info"
   ]
  },
  {
   "cell_type": "code",
   "execution_count": 8,
   "metadata": {},
   "outputs": [],
   "source": [
    "ids = {}\n",
    "for i in range(len(info)):\n",
    "    ids[i] = info.REFNUM[i]"
   ]
  },
  {
   "cell_type": "code",
   "execution_count": 9,
   "metadata": {},
   "outputs": [],
   "source": [
    "label = []\n",
    "for i in range(len(info)):\n",
    "    if info.SEVERITY[i] == 'B':\n",
    "        label.append(1)\n",
    "    else:\n",
    "        label.append(0)"
   ]
  },
  {
   "cell_type": "code",
   "execution_count": 10,
   "metadata": {},
   "outputs": [],
   "source": [
    "label = np.array(label)"
   ]
  },
  {
   "cell_type": "code",
   "execution_count": 11,
   "metadata": {},
   "outputs": [
    {
     "data": {
      "text/plain": [
       "(122,)"
      ]
     },
     "execution_count": 11,
     "metadata": {},
     "output_type": "execute_result"
    }
   ],
   "source": [
    "label.shape"
   ]
  },
  {
   "cell_type": "code",
   "execution_count": 12,
   "metadata": {},
   "outputs": [],
   "source": [
    "img_name = []\n",
    "\n",
    "for i in range(len(label)):\n",
    "        img_name.append(mypath +\"\\\\\" +info.REFNUM[i]+ '.pgm')"
   ]
  },
  {
   "cell_type": "code",
   "execution_count": 13,
   "metadata": {},
   "outputs": [],
   "source": [
    "img_name = np.array(img_name)"
   ]
  },
  {
   "cell_type": "code",
   "execution_count": 14,
   "metadata": {},
   "outputs": [
    {
     "name": "stdout",
     "output_type": "stream",
     "text": [
      "<class 'numpy.str_'>\n"
     ]
    }
   ],
   "source": [
    "print(type(img_name[1]))"
   ]
  },
  {
   "cell_type": "code",
   "execution_count": 15,
   "metadata": {},
   "outputs": [
    {
     "name": "stdout",
     "output_type": "stream",
     "text": [
      "image addres amount (122,)\n"
     ]
    }
   ],
   "source": [
    "print(f'image addres amount {img_name.shape}')"
   ]
  },
  {
   "cell_type": "code",
   "execution_count": 16,
   "metadata": {},
   "outputs": [],
   "source": [
    "#bfkjvbekjv"
   ]
  },
  {
   "cell_type": "code",
   "execution_count": 17,
   "metadata": {},
   "outputs": [],
   "source": [
    "img_path = []\n",
    "last_label = []\n",
    "for i in range(len(img_name)):\n",
    "    \n",
    "    img = cv2.imread(img_name[i], 0)\n",
    "    img = cv2.resize(img, (224,224))\n",
    "    rows, cols= img.shape\n",
    "    for angle in range(360):\n",
    "            M = cv2.getRotationMatrix2D((cols / 2, rows / 2), angle, 1)    #Rotate 0 degree\n",
    "            img_rotated = cv2.warpAffine(img, M, (224, 224))\n",
    "            img_path.append(img_rotated)\n",
    "            if label[i] == 1:\n",
    "                last_label.append(1)\n",
    "            else:\n",
    "                last_label.append(0)"
   ]
  },
  {
   "cell_type": "code",
   "execution_count": 18,
   "metadata": {},
   "outputs": [],
   "source": [
    "last_label = np.array(last_label)\n",
    "img_path = np.array(img_path)"
   ]
  },
  {
   "cell_type": "code",
   "execution_count": 19,
   "metadata": {},
   "outputs": [],
   "source": [
    "x_train, x_test, y_train, y_test = train_test_split(img_path, last_label, test_size = 0.2, random_state = 2)"
   ]
  },
  {
   "cell_type": "code",
   "execution_count": 20,
   "metadata": {},
   "outputs": [
    {
     "data": {
      "text/plain": [
       "(35136, 8784, 35136, 8784)"
      ]
     },
     "execution_count": 20,
     "metadata": {},
     "output_type": "execute_result"
    }
   ],
   "source": [
    "len(x_train),len(x_test),len(y_train),len(y_test)"
   ]
  },
  {
   "cell_type": "code",
   "execution_count": 21,
   "metadata": {},
   "outputs": [],
   "source": [
    "x_train = np.array(x_train)\n",
    "x_test = np.array(x_test)"
   ]
  },
  {
   "cell_type": "code",
   "execution_count": 22,
   "metadata": {},
   "outputs": [
    {
     "data": {
      "text/plain": [
       "(35136, 224, 224)"
      ]
     },
     "execution_count": 22,
     "metadata": {},
     "output_type": "execute_result"
    }
   ],
   "source": [
    "x_train.shape"
   ]
  },
  {
   "cell_type": "code",
   "execution_count": 23,
   "metadata": {},
   "outputs": [
    {
     "data": {
      "text/plain": [
       "(8784, 224, 224)"
      ]
     },
     "execution_count": 23,
     "metadata": {},
     "output_type": "execute_result"
    }
   ],
   "source": [
    "x_test.shape"
   ]
  },
  {
   "cell_type": "code",
   "execution_count": 24,
   "metadata": {},
   "outputs": [],
   "source": [
    "(a,b,c)=x_train.shape # (35136, 224, 224)\n",
    "x_train = np.reshape(x_train, (a, b, c, 1)) # 1 for gray scale\n",
    "(a, b, c)=x_test.shape\n",
    "x_test = np.reshape(x_test, (a, b, c, 1))"
   ]
  },
  {
   "cell_type": "code",
   "execution_count": 25,
   "metadata": {},
   "outputs": [],
   "source": [
    "def create_model():\n",
    "    model = Sequential()\n",
    "    model.add(Conv2D(32, kernel_size=(3, 3),activation='relu',input_shape=(224, 224, 1)))\n",
    "    model.add(Conv2D(64, kernel_size=(3,3),activation='relu'))\n",
    "    model.add(MaxPool2D(pool_size=(2, 2)))\n",
    "\n",
    "    model.add(Conv2D(64, kernel_size=(3,3),activation='relu'))\n",
    "    model.add(MaxPool2D(pool_size=(2, 2)))\n",
    "    model.add(Dropout(0.25))\n",
    "  \n",
    "    model.add(Dense(64, activation='relu'))\n",
    "    model.add(Dropout(0.25))\n",
    "    model.add(Flatten())\n",
    "    model.add(Dense(1, activation='sigmoid'))\n",
    "    return model"
   ]
  },
  {
   "cell_type": "code",
   "execution_count": 26,
   "metadata": {},
   "outputs": [
    {
     "name": "stdout",
     "output_type": "stream",
     "text": [
      "Model: \"sequential_1\"\n",
      "_________________________________________________________________\n",
      "Layer (type)                 Output Shape              Param #   \n",
      "=================================================================\n",
      "conv2d_1 (Conv2D)            (None, 222, 222, 32)      320       \n",
      "_________________________________________________________________\n",
      "conv2d_2 (Conv2D)            (None, 220, 220, 64)      18496     \n",
      "_________________________________________________________________\n",
      "max_pooling2d_1 (MaxPooling2 (None, 110, 110, 64)      0         \n",
      "_________________________________________________________________\n",
      "conv2d_3 (Conv2D)            (None, 108, 108, 64)      36928     \n",
      "_________________________________________________________________\n",
      "max_pooling2d_2 (MaxPooling2 (None, 54, 54, 64)        0         \n",
      "_________________________________________________________________\n",
      "dropout_1 (Dropout)          (None, 54, 54, 64)        0         \n",
      "_________________________________________________________________\n",
      "dense_1 (Dense)              (None, 54, 54, 64)        4160      \n",
      "_________________________________________________________________\n",
      "dropout_2 (Dropout)          (None, 54, 54, 64)        0         \n",
      "_________________________________________________________________\n",
      "flatten_1 (Flatten)          (None, 186624)            0         \n",
      "_________________________________________________________________\n",
      "dense_2 (Dense)              (None, 1)                 186625    \n",
      "=================================================================\n",
      "Total params: 246,529\n",
      "Trainable params: 246,529\n",
      "Non-trainable params: 0\n",
      "_________________________________________________________________\n"
     ]
    }
   ],
   "source": [
    "model = create_model()\n",
    "model.summary()"
   ]
  },
  {
   "cell_type": "code",
   "execution_count": 27,
   "metadata": {},
   "outputs": [],
   "source": [
    "#early_stop = EarlyStopping(monitor='val_loss', mode='min', patience=0,restore_best_weights=True, verbose=1)\n",
    "\n",
    "#check_point_filepath = './'\n",
    "\n",
    "#model_check_point = ModelCheckpoint(filepath =check_point_filepath, monitor='val_loss', verbose=1, save_best_only=True,\n",
    "                                    #save_weights_only=False, mode='auto', save_freq='epoch')"
   ]
  },
  {
   "cell_type": "code",
   "execution_count": 28,
   "metadata": {},
   "outputs": [
    {
     "name": "stdout",
     "output_type": "stream",
     "text": [
      "Train on 28108 samples, validate on 7028 samples\n",
      "Epoch 1/10\n",
      "28108/28108 [==============================] - 3099s 110ms/step - loss: 0.8365 - accuracy: 0.5464 - val_loss: 0.6824 - val_accuracy: 0.5710\n",
      "Epoch 2/10\n",
      "28108/28108 [==============================] - 2727s 97ms/step - loss: 0.6624 - accuracy: 0.5890 - val_loss: 0.6343 - val_accuracy: 0.6212\n",
      "Epoch 3/10\n",
      "28108/28108 [==============================] - 2939s 105ms/step - loss: 0.5718 - accuracy: 0.6897 - val_loss: 0.5235 - val_accuracy: 0.7420\n",
      "Epoch 4/10\n",
      "28108/28108 [==============================] - 3239s 115ms/step - loss: 0.4623 - accuracy: 0.7816 - val_loss: 0.4148 - val_accuracy: 0.8118\n",
      "Epoch 5/10\n",
      "28108/28108 [==============================] - 3236s 115ms/step - loss: 0.3602 - accuracy: 0.8418 - val_loss: 0.3604 - val_accuracy: 0.8459\n",
      "Epoch 6/10\n",
      "28108/28108 [==============================] - 19900s 708ms/step - loss: 0.2841 - accuracy: 0.8825 - val_loss: 0.2895 - val_accuracy: 0.8852\n",
      "Epoch 7/10\n",
      "28108/28108 [==============================] - 2607s 93ms/step - loss: 0.2288 - accuracy: 0.9091 - val_loss: 0.2542 - val_accuracy: 0.9037\n",
      "Epoch 8/10\n",
      "28108/28108 [==============================] - 2600s 93ms/step - loss: 0.1906 - accuracy: 0.9244 - val_loss: 0.2049 - val_accuracy: 0.9284\n",
      "Epoch 9/10\n",
      "28108/28108 [==============================] - 2596s 92ms/step - loss: 0.1561 - accuracy: 0.9425 - val_loss: 0.1858 - val_accuracy: 0.9368\n",
      "Epoch 10/10\n",
      "28108/28108 [==============================] - 2594s 92ms/step - loss: 0.1363 - accuracy: 0.9498 - val_loss: 0.1953 - val_accuracy: 0.9344\n"
     ]
    }
   ],
   "source": [
    "model.compile(optimizer='adam',loss='binary_crossentropy',metrics=['accuracy'])\n",
    "\n",
    "hist = model.fit(x_train,y_train,validation_split=0.2,epochs=10,batch_size=64)\n"
   ]
  },
  {
   "cell_type": "code",
   "execution_count": 29,
   "metadata": {},
   "outputs": [
    {
     "name": "stdout",
     "output_type": "stream",
     "text": [
      "8784/8784 [==============================] - 196s 22ms/step\n",
      "Test_loss_value = 0.1851330772585122\n",
      "test_accuracy = 0.9420537352561951\n",
      "[[3.8691092e-01]\n",
      " [2.6667276e-01]\n",
      " [2.6099190e-06]\n",
      " ...\n",
      " [9.9920088e-01]\n",
      " [9.9450111e-01]\n",
      " [1.0639449e-01]]\n"
     ]
    }
   ],
   "source": [
    "loss_value , accuracy = model.evaluate(x_test, y_test)\n",
    "\n",
    "print('Test_loss_value = ' +str(loss_value))\n",
    "print('test_accuracy = ' + str(accuracy))\n",
    "\n",
    "print(model.predict(x_test))"
   ]
  },
  {
   "cell_type": "code",
   "execution_count": 30,
   "metadata": {},
   "outputs": [],
   "source": [
    "with open('bcc_cnn_224_360.pkl', 'wb') as file:\n",
    "    pickle.dump(model, file)"
   ]
  },
  {
   "cell_type": "code",
   "execution_count": 32,
   "metadata": {},
   "outputs": [],
   "source": [
    "y_pred=model.predict(x_test)"
   ]
  },
  {
   "cell_type": "code",
   "execution_count": 33,
   "metadata": {},
   "outputs": [
    {
     "data": {
      "text/plain": [
       "array([[3.8691092e-01],\n",
       "       [2.6667276e-01],\n",
       "       [2.6099190e-06],\n",
       "       ...,\n",
       "       [9.9920088e-01],\n",
       "       [9.9450111e-01],\n",
       "       [1.0639449e-01]], dtype=float32)"
      ]
     },
     "execution_count": 33,
     "metadata": {},
     "output_type": "execute_result"
    }
   ],
   "source": [
    "y_pred"
   ]
  },
  {
   "cell_type": "code",
   "execution_count": null,
   "metadata": {},
   "outputs": [],
   "source": []
  }
 ],
 "metadata": {
  "kernelspec": {
   "display_name": "Tensorflowenv",
   "language": "python",
   "name": "tensorflowenv"
  },
  "language_info": {
   "codemirror_mode": {
    "name": "ipython",
    "version": 3
   },
   "file_extension": ".py",
   "mimetype": "text/x-python",
   "name": "python",
   "nbconvert_exporter": "python",
   "pygments_lexer": "ipython3",
   "version": "3.7.7"
  }
 },
 "nbformat": 4,
 "nbformat_minor": 4
}
